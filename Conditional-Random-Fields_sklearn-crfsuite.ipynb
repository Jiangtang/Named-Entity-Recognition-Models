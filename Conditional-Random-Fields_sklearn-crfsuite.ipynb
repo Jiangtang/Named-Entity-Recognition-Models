{
 "cells": [
  {
   "cell_type": "code",
   "execution_count": 4,
   "id": "pleased-receptor",
   "metadata": {
    "ExecuteTime": {
     "end_time": "2021-05-06T20:12:13.647778Z",
     "start_time": "2021-05-06T20:12:13.594787Z"
    }
   },
   "outputs": [],
   "source": [
    "%matplotlib inline\n",
    "import matplotlib.pyplot as plt\n",
    "plt.style.use('ggplot')\n",
    "\n",
    "from itertools import chain\n",
    "\n",
    "import nltk\n",
    "import sklearn\n",
    "import scipy.stats\n",
    "from sklearn.metrics import make_scorer\n",
    "from sklearn.model_selection import cross_val_score\n",
    "from sklearn.model_selection import RandomizedSearchCV\n",
    "\n",
    "import sklearn_crfsuite\n",
    "from sklearn_crfsuite import scorers\n",
    "from sklearn_crfsuite import metrics"
   ]
  },
  {
   "cell_type": "markdown",
   "id": "exterior-bernard",
   "metadata": {},
   "source": [
    "# CoNLL 2002 data"
   ]
  },
  {
   "cell_type": "code",
   "execution_count": 6,
   "id": "systematic-sally",
   "metadata": {
    "ExecuteTime": {
     "end_time": "2021-05-06T20:13:04.883287Z",
     "start_time": "2021-05-06T20:13:04.164048Z"
    }
   },
   "outputs": [
    {
     "name": "stderr",
     "output_type": "stream",
     "text": [
      "[nltk_data] Downloading package conll2002 to\n",
      "[nltk_data]     C:\\Users\\jhu\\AppData\\Roaming\\nltk_data...\n",
      "[nltk_data]   Unzipping corpora\\conll2002.zip.\n"
     ]
    },
    {
     "data": {
      "text/plain": [
       "True"
      ]
     },
     "execution_count": 6,
     "metadata": {},
     "output_type": "execute_result"
    }
   ],
   "source": [
    "# import nltk\n",
    "# nltk.download('conll2002')"
   ]
  },
  {
   "cell_type": "code",
   "execution_count": 7,
   "id": "french-college",
   "metadata": {
    "ExecuteTime": {
     "end_time": "2021-05-06T20:13:07.821746Z",
     "start_time": "2021-05-06T20:13:07.807073Z"
    }
   },
   "outputs": [
    {
     "data": {
      "text/plain": [
       "['esp.testa', 'esp.testb', 'esp.train', 'ned.testa', 'ned.testb', 'ned.train']"
      ]
     },
     "execution_count": 7,
     "metadata": {},
     "output_type": "execute_result"
    }
   ],
   "source": [
    "nltk.corpus.conll2002.fileids()"
   ]
  },
  {
   "cell_type": "code",
   "execution_count": 8,
   "id": "assisted-finnish",
   "metadata": {
    "ExecuteTime": {
     "end_time": "2021-05-06T20:13:24.406004Z",
     "start_time": "2021-05-06T20:13:22.709175Z"
    }
   },
   "outputs": [],
   "source": [
    "train_sents = list(nltk.corpus.conll2002.iob_sents('esp.train'))\n",
    "test_sents = list(nltk.corpus.conll2002.iob_sents('esp.testb'))"
   ]
  },
  {
   "cell_type": "code",
   "execution_count": 9,
   "id": "recorded-arctic",
   "metadata": {
    "ExecuteTime": {
     "end_time": "2021-05-06T20:13:30.190843Z",
     "start_time": "2021-05-06T20:13:30.179234Z"
    }
   },
   "outputs": [
    {
     "data": {
      "text/plain": [
       "[('Melbourne', 'NP', 'B-LOC'),\n",
       " ('(', 'Fpa', 'O'),\n",
       " ('Australia', 'NP', 'B-LOC'),\n",
       " (')', 'Fpt', 'O'),\n",
       " (',', 'Fc', 'O'),\n",
       " ('25', 'Z', 'O'),\n",
       " ('may', 'NC', 'O'),\n",
       " ('(', 'Fpa', 'O'),\n",
       " ('EFE', 'NC', 'B-ORG'),\n",
       " (')', 'Fpt', 'O'),\n",
       " ('.', 'Fp', 'O')]"
      ]
     },
     "execution_count": 9,
     "metadata": {},
     "output_type": "execute_result"
    }
   ],
   "source": [
    "train_sents[0]"
   ]
  },
  {
   "cell_type": "code",
   "execution_count": 10,
   "id": "identified-beauty",
   "metadata": {
    "ExecuteTime": {
     "end_time": "2021-05-06T20:13:43.248882Z",
     "start_time": "2021-05-06T20:13:43.223189Z"
    }
   },
   "outputs": [],
   "source": [
    "def word2features(sent, i):\n",
    "    word = sent[i][0]\n",
    "    postag = sent[i][1]\n",
    "\n",
    "    features = {\n",
    "        'bias': 1.0,\n",
    "        'word.lower()': word.lower(),\n",
    "        'word[-3:]': word[-3:],\n",
    "        'word[-2:]': word[-2:],\n",
    "        'word.isupper()': word.isupper(),\n",
    "        'word.istitle()': word.istitle(),\n",
    "        'word.isdigit()': word.isdigit(),\n",
    "        'postag': postag,\n",
    "        'postag[:2]': postag[:2],\n",
    "    }\n",
    "    if i > 0:\n",
    "        word1 = sent[i-1][0]\n",
    "        postag1 = sent[i-1][1]\n",
    "        features.update({\n",
    "            '-1:word.lower()': word1.lower(),\n",
    "            '-1:word.istitle()': word1.istitle(),\n",
    "            '-1:word.isupper()': word1.isupper(),\n",
    "            '-1:postag': postag1,\n",
    "            '-1:postag[:2]': postag1[:2],\n",
    "        })\n",
    "    else:\n",
    "        features['BOS'] = True\n",
    "\n",
    "    if i < len(sent)-1:\n",
    "        word1 = sent[i+1][0]\n",
    "        postag1 = sent[i+1][1]\n",
    "        features.update({\n",
    "            '+1:word.lower()': word1.lower(),\n",
    "            '+1:word.istitle()': word1.istitle(),\n",
    "            '+1:word.isupper()': word1.isupper(),\n",
    "            '+1:postag': postag1,\n",
    "            '+1:postag[:2]': postag1[:2],\n",
    "        })\n",
    "    else:\n",
    "        features['EOS'] = True\n",
    "\n",
    "    return features\n",
    "\n",
    "\n",
    "def sent2features(sent):\n",
    "    return [word2features(sent, i) for i in range(len(sent))]\n",
    "\n",
    "def sent2labels(sent):\n",
    "    return [label for token, postag, label in sent]\n",
    "\n",
    "def sent2tokens(sent):\n",
    "    return [token for token, postag, label in sent]"
   ]
  },
  {
   "cell_type": "code",
   "execution_count": 11,
   "id": "competitive-potential",
   "metadata": {
    "ExecuteTime": {
     "end_time": "2021-05-06T20:13:48.472248Z",
     "start_time": "2021-05-06T20:13:48.451721Z"
    }
   },
   "outputs": [
    {
     "data": {
      "text/plain": [
       "{'bias': 1.0,\n",
       " 'word.lower()': 'melbourne',\n",
       " 'word[-3:]': 'rne',\n",
       " 'word[-2:]': 'ne',\n",
       " 'word.isupper()': False,\n",
       " 'word.istitle()': True,\n",
       " 'word.isdigit()': False,\n",
       " 'postag': 'NP',\n",
       " 'postag[:2]': 'NP',\n",
       " 'BOS': True,\n",
       " '+1:word.lower()': '(',\n",
       " '+1:word.istitle()': False,\n",
       " '+1:word.isupper()': False,\n",
       " '+1:postag': 'Fpa',\n",
       " '+1:postag[:2]': 'Fp'}"
      ]
     },
     "execution_count": 11,
     "metadata": {},
     "output_type": "execute_result"
    }
   ],
   "source": [
    "sent2features(train_sents[0])[0]"
   ]
  },
  {
   "cell_type": "code",
   "execution_count": 12,
   "id": "referenced-evaluation",
   "metadata": {
    "ExecuteTime": {
     "end_time": "2021-05-06T20:13:57.636711Z",
     "start_time": "2021-05-06T20:13:56.704344Z"
    }
   },
   "outputs": [],
   "source": [
    "X_train = [sent2features(s) for s in train_sents]\n",
    "y_train = [sent2labels(s) for s in train_sents]\n",
    "\n",
    "X_test = [sent2features(s) for s in test_sents]\n",
    "y_test = [sent2labels(s) for s in test_sents]"
   ]
  },
  {
   "cell_type": "code",
   "execution_count": 13,
   "id": "covered-amino",
   "metadata": {
    "ExecuteTime": {
     "end_time": "2021-05-06T20:14:33.864685Z",
     "start_time": "2021-05-06T20:14:04.079625Z"
    }
   },
   "outputs": [
    {
     "name": "stderr",
     "output_type": "stream",
     "text": [
      "C:\\Users\\jhu\\Anaconda3\\lib\\site-packages\\sklearn\\base.py:209: FutureWarning: From version 0.24, get_params will raise an AttributeError if a parameter cannot be retrieved as an instance attribute. Previously it would return None.\n",
      "  warnings.warn('From version 0.24, get_params will raise an '\n"
     ]
    },
    {
     "data": {
      "text/plain": [
       "CRF(algorithm='lbfgs', all_possible_transitions=True, c1=0.1, c2=0.1,\n",
       "    keep_tempfiles=None, max_iterations=100)"
      ]
     },
     "execution_count": 13,
     "metadata": {},
     "output_type": "execute_result"
    }
   ],
   "source": [
    "crf = sklearn_crfsuite.CRF(\n",
    "    algorithm='lbfgs',\n",
    "    c1=0.1,\n",
    "    c2=0.1,\n",
    "    max_iterations=100,\n",
    "    all_possible_transitions=True\n",
    ")\n",
    "crf.fit(X_train, y_train)"
   ]
  },
  {
   "cell_type": "code",
   "execution_count": 14,
   "id": "labeled-affiliation",
   "metadata": {
    "ExecuteTime": {
     "end_time": "2021-05-06T20:14:42.849738Z",
     "start_time": "2021-05-06T20:14:42.831686Z"
    }
   },
   "outputs": [
    {
     "data": {
      "text/plain": [
       "['B-LOC', 'B-ORG', 'B-PER', 'I-PER', 'B-MISC', 'I-ORG', 'I-LOC', 'I-MISC']"
      ]
     },
     "execution_count": 14,
     "metadata": {},
     "output_type": "execute_result"
    }
   ],
   "source": [
    "labels = list(crf.classes_)\n",
    "labels.remove('O')\n",
    "labels"
   ]
  },
  {
   "cell_type": "code",
   "execution_count": 15,
   "id": "medical-tucson",
   "metadata": {
    "ExecuteTime": {
     "end_time": "2021-05-06T20:14:52.041710Z",
     "start_time": "2021-05-06T20:14:51.382942Z"
    }
   },
   "outputs": [
    {
     "data": {
      "text/plain": [
       "0.7964686316443963"
      ]
     },
     "execution_count": 15,
     "metadata": {},
     "output_type": "execute_result"
    }
   ],
   "source": [
    "y_pred = crf.predict(X_test)\n",
    "metrics.flat_f1_score(y_test, y_pred,\n",
    "                      average='weighted', labels=labels)"
   ]
  },
  {
   "cell_type": "code",
   "execution_count": 16,
   "id": "noble-spelling",
   "metadata": {
    "ExecuteTime": {
     "end_time": "2021-05-06T20:15:01.338173Z",
     "start_time": "2021-05-06T20:15:00.964961Z"
    }
   },
   "outputs": [
    {
     "name": "stderr",
     "output_type": "stream",
     "text": [
      "C:\\Users\\jhu\\Anaconda3\\lib\\site-packages\\sklearn\\utils\\validation.py:67: FutureWarning: Pass labels=['B-LOC', 'I-LOC', 'B-MISC', 'I-MISC', 'B-ORG', 'I-ORG', 'B-PER', 'I-PER'] as keyword args. From version 0.25 passing these as positional arguments will result in an error\n",
      "  warnings.warn(\"Pass {} as keyword args. From version 0.25 \"\n"
     ]
    },
    {
     "name": "stdout",
     "output_type": "stream",
     "text": [
      "              precision    recall  f1-score   support\n",
      "\n",
      "       B-LOC      0.810     0.784     0.797      1084\n",
      "       I-LOC      0.690     0.637     0.662       325\n",
      "      B-MISC      0.731     0.569     0.640       339\n",
      "      I-MISC      0.699     0.589     0.639       557\n",
      "       B-ORG      0.807     0.832     0.820      1400\n",
      "       I-ORG      0.852     0.786     0.818      1104\n",
      "       B-PER      0.850     0.884     0.867       735\n",
      "       I-PER      0.893     0.943     0.917       634\n",
      "\n",
      "   micro avg      0.813     0.787     0.799      6178\n",
      "   macro avg      0.791     0.753     0.770      6178\n",
      "weighted avg      0.809     0.787     0.796      6178\n",
      "\n"
     ]
    }
   ],
   "source": [
    "# group B and I results\n",
    "sorted_labels = sorted(\n",
    "    labels,\n",
    "    key=lambda name: (name[1:], name[0])\n",
    ")\n",
    "print(metrics.flat_classification_report(\n",
    "    y_test, y_pred, labels=sorted_labels, digits=3\n",
    "))"
   ]
  },
  {
   "cell_type": "code",
   "execution_count": 17,
   "id": "acute-chinese",
   "metadata": {
    "ExecuteTime": {
     "end_time": "2021-05-06T20:38:17.599434Z",
     "start_time": "2021-05-06T20:15:12.854579Z"
    }
   },
   "outputs": [
    {
     "name": "stdout",
     "output_type": "stream",
     "text": [
      "Fitting 3 folds for each of 50 candidates, totalling 150 fits\n"
     ]
    },
    {
     "name": "stderr",
     "output_type": "stream",
     "text": [
      "[Parallel(n_jobs=-1)]: Using backend LokyBackend with 8 concurrent workers.\n",
      "[Parallel(n_jobs=-1)]: Done  34 tasks      | elapsed:  5.5min\n",
      "[Parallel(n_jobs=-1)]: Done 150 out of 150 | elapsed: 22.6min finished\n"
     ]
    },
    {
     "data": {
      "text/plain": [
       "RandomizedSearchCV(cv=3,\n",
       "                   estimator=CRF(algorithm='lbfgs',\n",
       "                                 all_possible_transitions=True,\n",
       "                                 keep_tempfiles=None, max_iterations=100),\n",
       "                   n_iter=50, n_jobs=-1,\n",
       "                   param_distributions={'c1': <scipy.stats._distn_infrastructure.rv_frozen object at 0x000002A404F2B460>,\n",
       "                                        'c2': <scipy.stats._distn_infrastructure.rv_frozen object at 0x000002A4094F7AC0>},\n",
       "                   scoring=make_scorer(flat_f1_score, average=weighted, labels=['B-LOC', 'B-ORG', 'B-PER', 'I-PER', 'B-MISC', 'I-ORG', 'I-LOC', 'I-MISC']),\n",
       "                   verbose=1)"
      ]
     },
     "execution_count": 17,
     "metadata": {},
     "output_type": "execute_result"
    }
   ],
   "source": [
    "# define fixed parameters and parameters to search\n",
    "crf = sklearn_crfsuite.CRF(\n",
    "    algorithm='lbfgs',\n",
    "    max_iterations=100,\n",
    "    all_possible_transitions=True\n",
    ")\n",
    "params_space = {\n",
    "    'c1': scipy.stats.expon(scale=0.5),\n",
    "    'c2': scipy.stats.expon(scale=0.05),\n",
    "}\n",
    "\n",
    "# use the same metric for evaluation\n",
    "f1_scorer = make_scorer(metrics.flat_f1_score,\n",
    "                        average='weighted', labels=labels)\n",
    "\n",
    "# search\n",
    "rs = RandomizedSearchCV(crf, params_space,\n",
    "                        cv=3,\n",
    "                        verbose=1,\n",
    "                        n_jobs=-1,\n",
    "                        n_iter=50,\n",
    "                        scoring=f1_scorer)\n",
    "rs.fit(X_train, y_train)"
   ]
  },
  {
   "cell_type": "code",
   "execution_count": 18,
   "id": "baking-appeal",
   "metadata": {
    "ExecuteTime": {
     "end_time": "2021-05-06T21:26:13.647848Z",
     "start_time": "2021-05-06T21:26:13.469523Z"
    }
   },
   "outputs": [
    {
     "name": "stdout",
     "output_type": "stream",
     "text": [
      "best params: {'c1': 0.16009461826928975, 'c2': 0.02755141021011392}\n",
      "best CV score: 0.7494872620162331\n",
      "model size: 1.23M\n"
     ]
    }
   ],
   "source": [
    "# crf = rs.best_estimator_\n",
    "print('best params:', rs.best_params_)\n",
    "print('best CV score:', rs.best_score_)\n",
    "print('model size: {:0.2f}M'.format(rs.best_estimator_.size_ / 1000000))"
   ]
  },
  {
   "cell_type": "code",
   "execution_count": 30,
   "id": "drawn-rocket",
   "metadata": {
    "ExecuteTime": {
     "end_time": "2021-05-06T21:30:35.580649Z",
     "start_time": "2021-05-06T21:30:34.784392Z"
    }
   },
   "outputs": [
    {
     "name": "stdout",
     "output_type": "stream",
     "text": [
      "Dark blue => 0.7041, dark red => 0.7495\n"
     ]
    },
    {
     "data": {
      "image/png": "[encoded data removed]",
      "text/plain": [
       "<Figure size 864x864 with 1 Axes>"
      ]
     },
     "metadata": {},
     "output_type": "display_data"
    }
   ],
   "source": [
    "_x = rs.cv_results_[\"param_c1\"]\n",
    "_y = rs.cv_results_[\"param_c2\"]\n",
    "_c = rs.cv_results_[\"mean_test_score\"]\n",
    "\n",
    "\n",
    "\n",
    "fig = plt.figure()\n",
    "fig.set_size_inches(12, 12)\n",
    "ax = plt.gca()\n",
    "ax.set_yscale('log')\n",
    "ax.set_xscale('log')\n",
    "ax.set_xlabel('C1')\n",
    "ax.set_ylabel('C2')\n",
    "ax.set_title(\"Randomized Hyperparameter Search CV Results (min={:0.3}, max={:0.3})\".format(\n",
    "    min(_c), max(_c)\n",
    "))\n",
    "\n",
    "ax.scatter(_x, _y, c=_c, s=60, alpha=0.9, edgecolors=[0,0,0])\n",
    "\n",
    "print(\"Dark blue => {:0.4}, dark red => {:0.4}\".format(min(_c), max(_c)))"
   ]
  },
  {
   "cell_type": "code",
   "execution_count": 31,
   "id": "mobile-destiny",
   "metadata": {
    "ExecuteTime": {
     "end_time": "2021-05-06T21:30:55.088184Z",
     "start_time": "2021-05-06T21:30:54.236289Z"
    }
   },
   "outputs": [
    {
     "name": "stdout",
     "output_type": "stream",
     "text": [
      "              precision    recall  f1-score   support\n",
      "\n",
      "       B-LOC      0.805     0.783     0.794      1084\n",
      "       I-LOC      0.676     0.637     0.656       325\n",
      "      B-MISC      0.718     0.555     0.626       339\n",
      "      I-MISC      0.701     0.576     0.633       557\n",
      "       B-ORG      0.810     0.835     0.822      1400\n",
      "       I-ORG      0.847     0.782     0.813      1104\n",
      "       B-PER      0.848     0.880     0.864       735\n",
      "       I-PER      0.889     0.943     0.915       634\n",
      "\n",
      "   micro avg      0.810     0.784     0.797      6178\n",
      "   macro avg      0.787     0.749     0.765      6178\n",
      "weighted avg      0.806     0.784     0.793      6178\n",
      "\n"
     ]
    }
   ],
   "source": [
    "crf = rs.best_estimator_\n",
    "y_pred = crf.predict(X_test)\n",
    "print(metrics.flat_classification_report(\n",
    "    y_test, y_pred, labels=sorted_labels, digits=3\n",
    "))"
   ]
  },
  {
   "cell_type": "code",
   "execution_count": 33,
   "id": "nominated-church",
   "metadata": {
    "ExecuteTime": {
     "end_time": "2021-05-06T21:31:06.862430Z",
     "start_time": "2021-05-06T21:31:06.840609Z"
    }
   },
   "outputs": [
    {
     "name": "stdout",
     "output_type": "stream",
     "text": [
      "Top likely transitions:\n",
      "B-ORG  -> I-ORG   7.242260\n",
      "I-ORG  -> I-ORG   6.974288\n",
      "I-MISC -> I-MISC  6.703445\n",
      "B-MISC -> I-MISC  6.519786\n",
      "B-PER  -> I-PER   6.117211\n",
      "B-LOC  -> I-LOC   5.465919\n",
      "I-PER  -> I-PER   4.824878\n",
      "I-LOC  -> I-LOC   4.735472\n",
      "O      -> O       4.083009\n",
      "O      -> B-ORG   2.773211\n",
      "O      -> B-PER   2.363283\n",
      "O      -> B-LOC   1.759445\n",
      "O      -> B-MISC  1.725927\n",
      "I-PER  -> B-LOC   0.385576\n",
      "B-ORG  -> O       0.379724\n",
      "B-MISC -> B-ORG   0.062941\n",
      "B-LOC  -> B-LOC   0.054097\n",
      "B-ORG  -> B-LOC   -0.003858\n",
      "B-LOC  -> O       -0.188728\n",
      "B-MISC -> O       -0.264129\n",
      "\n",
      "Top unlikely transitions:\n",
      "I-LOC  -> B-MISC  -2.742681\n",
      "I-MISC -> I-PER   -2.776139\n",
      "I-MISC -> I-ORG   -2.795003\n",
      "I-LOC  -> I-PER   -2.854152\n",
      "I-MISC -> B-LOC   -2.956192\n",
      "I-ORG  -> I-PER   -2.984794\n",
      "B-PER  -> B-MISC  -2.991086\n",
      "I-PER  -> B-ORG   -3.005849\n",
      "I-PER  -> I-LOC   -3.024711\n",
      "I-ORG  -> B-MISC  -3.076100\n",
      "B-ORG  -> B-MISC  -3.253239\n",
      "I-ORG  -> I-LOC   -3.384299\n",
      "I-PER  -> B-MISC  -3.445014\n",
      "I-MISC -> I-LOC   -3.571663\n",
      "B-PER  -> B-PER   -3.743125\n",
      "B-MISC -> B-MISC  -4.117615\n",
      "O      -> I-MISC  -6.283509\n",
      "O      -> I-ORG   -6.649820\n",
      "O      -> I-PER   -6.680576\n",
      "O      -> I-LOC   -6.872741\n"
     ]
    }
   ],
   "source": [
    "from collections import Counter\n",
    "\n",
    "def print_transitions(trans_features):\n",
    "    for (label_from, label_to), weight in trans_features:\n",
    "        print(\"%-6s -> %-7s %0.6f\" % (label_from, label_to, weight))\n",
    "\n",
    "print(\"Top likely transitions:\")\n",
    "print_transitions(Counter(crf.transition_features_).most_common(20))\n",
    "\n",
    "print(\"\\nTop unlikely transitions:\")\n",
    "print_transitions(Counter(crf.transition_features_).most_common()[-20:])"
   ]
  },
  {
   "cell_type": "code",
   "execution_count": 34,
   "id": "dietary-cisco",
   "metadata": {
    "ExecuteTime": {
     "end_time": "2021-05-06T21:31:15.134414Z",
     "start_time": "2021-05-06T21:31:15.111210Z"
    }
   },
   "outputs": [
    {
     "name": "stdout",
     "output_type": "stream",
     "text": [
      "Top positive:\n",
      "12.154812 B-ORG    word.lower():efe-cantabria\n",
      "11.122133 B-ORG    word.lower():psoe-progresistas\n",
      "8.564275 B-ORG    word.lower():petrobras\n",
      "7.731951 I-ORG    -1:word.lower():l\n",
      "7.683483 B-ORG    word.lower():coag-extremadura\n",
      "7.305051 I-ORG    -1:word.lower():rasd\n",
      "6.828097 B-LOC    +1:word.lower():finalizaron\n",
      "6.801799 B-MISC   word.lower():cc2305001730\n",
      "6.719695 B-ORG    word[-2:]:-e\n",
      "6.642118 B-ORG    word.lower():xfera\n",
      "6.514612 B-ORG    -1:word.lower():distancia\n",
      "6.394158 B-ORG    +1:word.lower():plasencia\n",
      "6.322675 B-MISC   word.lower():diversia\n",
      "6.316746 I-ORG    -1:word.lower():ag\n",
      "6.239439 B-LOC    -1:word.lower():celebrarán\n",
      "6.224056 B-ORG    word.lower():eu-ecologista\n",
      "6.177522 B-LOC    -1:word.lower():cantabria\n",
      "6.069878 B-MISC   word.lower():vaciamadrid\n",
      "5.993392 B-ORG    -1:word.lower():sociolaboral\n",
      "5.988022 B-PER    word.lower():orduña\n",
      "5.959488 O        word.lower():r.\n",
      "5.959488 O        word[-3:]:R.\n",
      "5.838687 B-ORG    word.lower():telefónica\n",
      "5.757265 I-LOC    -1:word.lower():calle\n",
      "5.699756 B-MISC   word.lower():justicia\n",
      "5.670518 B-ORG    word.lower():terra\n",
      "5.657750 B-MISC   word.lower():competencia\n",
      "5.652371 I-MISC   -1:word.lower():1.9\n",
      "5.632023 B-LOC    word.lower():líbano\n",
      "5.593743 B-ORG    word.lower():esquerra\n",
      "\n",
      "Top negative:\n",
      "-2.373190 O        -1:word.lower():concha\n",
      "-2.390618 B-MISC   -1:word.isupper()\n",
      "-2.458601 O        word.lower():avenida\n",
      "-2.465899 O        -1:word.lower():artículo\n",
      "-2.505186 O        word.lower():061\n",
      "-2.518591 O        +1:word.lower():campo\n",
      "-2.523698 O        -1:word.lower():ong\n",
      "-2.546957 I-PER    word[-3:]:ico\n",
      "-2.547554 B-LOC    word[-3:]:la\n",
      "-2.651303 O        word[-3:]:sil\n",
      "-2.695270 O        -1:word.lower():sánchez\n",
      "-2.703191 O        word[-3:]:bas\n",
      "-2.727493 O        -1:word.lower():agora\n",
      "-2.872217 O        -1:word.lower():sección\n",
      "-2.902136 B-PER    word[-3:]:nes\n",
      "-3.010258 I-PER    +1:word.lower():el\n",
      "-3.158326 I-PER    +1:word.lower():del\n",
      "-3.192019 O        -1:word.lower():británica\n",
      "-3.226198 O        word[-2:]:nd\n",
      "-3.279715 O        +1:word.lower():justicia\n",
      "-3.354244 O        +1:word.lower():plasencia\n",
      "-3.665934 B-PER    -1:word.lower():del\n",
      "-3.681506 O        word[-3:]:LOS\n",
      "-3.913191 O        word.lower():mas\n",
      "-4.149493 O        -1:word.lower():españolas\n",
      "-4.162589 I-PER    -1:word.lower():san\n",
      "-5.354088 O        word[-2:]:om\n",
      "-5.677826 O        -1:word.lower():celebrarán\n",
      "-6.384000 O        word.isupper()\n",
      "-9.045799 O        word.istitle()\n"
     ]
    }
   ],
   "source": [
    "def print_state_features(state_features):\n",
    "    for (attr, label), weight in state_features:\n",
    "        print(\"%0.6f %-8s %s\" % (weight, label, attr))\n",
    "\n",
    "print(\"Top positive:\")\n",
    "print_state_features(Counter(crf.state_features_).most_common(30))\n",
    "\n",
    "print(\"\\nTop negative:\")\n",
    "print_state_features(Counter(crf.state_features_).most_common()[-30:])"
   ]
  },
  {
   "cell_type": "code",
   "execution_count": null,
   "id": "contemporary-logan",
   "metadata": {},
   "outputs": [],
   "source": []
  }
 ],
 "metadata": {
  "kernelspec": {
   "display_name": "Python 3",
   "language": "python",
   "name": "python3"
  },
  "language_info": {
   "codemirror_mode": {
    "name": "ipython",
    "version": 3
   },
   "file_extension": ".py",
   "mimetype": "text/x-python",
   "name": "python",
   "nbconvert_exporter": "python",
   "pygments_lexer": "ipython3",
   "version": "3.8.5"
  },
  "toc": {
   "base_numbering": 1,
   "nav_menu": {},
   "number_sections": true,
   "sideBar": true,
   "skip_h1_title": false,
   "title_cell": "Table of Contents",
   "title_sidebar": "Contents",
   "toc_cell": false,
   "toc_position": {},
   "toc_section_display": true,
   "toc_window_display": false
  }
 },
 "nbformat": 4,
 "nbformat_minor": 5
}
